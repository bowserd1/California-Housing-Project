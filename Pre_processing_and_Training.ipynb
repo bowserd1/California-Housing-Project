{
  "nbformat": 4,
  "nbformat_minor": 0,
  "metadata": {
    "colab": {
      "provenance": [],
      "mount_file_id": "1tQxkfJy4VpCwSMm1JSa_oAAgoCTxrVg4",
      "authorship_tag": "ABX9TyM3qPXfv6mr/HJhlFu1byoc",
      "include_colab_link": true
    },
    "kernelspec": {
      "name": "python3",
      "display_name": "Python 3"
    },
    "language_info": {
      "name": "python"
    }
  },
  "cells": [
    {
      "cell_type": "markdown",
      "metadata": {
        "id": "view-in-github",
        "colab_type": "text"
      },
      "source": [
        "<a href=\"https://colab.research.google.com/github/bowserd1/California-Housing-Project/blob/main/Pre_processing_and_Training.ipynb\" target=\"_parent\"><img src=\"https://colab.research.google.com/assets/colab-badge.svg\" alt=\"Open In Colab\"/></a>"
      ]
    },
    {
      "cell_type": "code",
      "execution_count": 2,
      "metadata": {
        "colab": {
          "base_uri": "https://localhost:8080/"
        },
        "id": "e2yCAKIJkBEx",
        "outputId": "e8caee72-71b6-4494-991b-f31e2d90a9f1"
      },
      "outputs": [
        {
          "output_type": "stream",
          "name": "stdout",
          "text": [
            "Drive already mounted at /content/drive; to attempt to forcibly remount, call drive.mount(\"/content/drive\", force_remount=True).\n"
          ]
        }
      ],
      "source": [
        "from google.colab import drive\n",
        "drive.mount('/content/drive')"
      ]
    },
    {
      "cell_type": "code",
      "source": [
        "import pandas as pd\n",
        "from sklearn.preprocessing import StandardScaler\n",
        "from sklearn.model_selection import train_test_split, cross_validate, GridSearchCV"
      ],
      "metadata": {
        "id": "WD2OhDyMnoJR"
      },
      "execution_count": 3,
      "outputs": []
    },
    {
      "cell_type": "code",
      "source": [
        "df=pd.read_csv('/content/drive/MyDrive/Colab Data Sets/housing_eda.csv')"
      ],
      "metadata": {
        "id": "IISj9xJBnOAT"
      },
      "execution_count": 4,
      "outputs": []
    },
    {
      "cell_type": "markdown",
      "source": [
        "Reading in my csv from my EDA notebook."
      ],
      "metadata": {
        "id": "G__nF1QRruJ2"
      }
    },
    {
      "cell_type": "code",
      "source": [
        "df.head()"
      ],
      "metadata": {
        "colab": {
          "base_uri": "https://localhost:8080/",
          "height": 285
        },
        "id": "OSuLTYDLnlR3",
        "outputId": "ea41934c-1b03-47d5-8521-cc1d41be427a"
      },
      "execution_count": 5,
      "outputs": [
        {
          "output_type": "execute_result",
          "data": {
            "text/plain": [
              "   Unnamed: 0  MedInc  HouseAge  AveRooms  AveBedrms  Population  AveOccup  \\\n",
              "0           0  2.3859      15.0  3.827160   1.112100      1280.0  2.486989   \n",
              "1           1  3.7188      17.0  6.013373   1.054217      1504.0  3.813084   \n",
              "2           2  4.7750      27.0  6.535604   1.103175      1061.0  2.464602   \n",
              "3           3  2.4138      16.0  3.350203   0.965432      1255.0  2.089286   \n",
              "4           4  3.7500      52.0  4.284404   1.069246      1793.0  1.604790   \n",
              "\n",
              "   Latitude  Longitude  MedHouseVal  bedrooms_per_room  occupancy_per_room  \\\n",
              "0     34.60    -120.12        0.980           0.290581            0.649826   \n",
              "1     38.69    -121.22        0.946           0.175312            0.634101   \n",
              "2     34.71    -120.45        1.576           0.168795            0.377104   \n",
              "3     32.66    -117.09        1.336           0.288171            0.623630   \n",
              "4     37.80    -122.41        4.500           0.249567            0.374566   \n",
              "\n",
              "   occupancy_per_bedroom     housing_tuple  key  Miles_to_City   Nearest_City  \\\n",
              "0               2.236300   (34.6, -120.12)    1     113.743686    Los Angeles   \n",
              "1               3.616983  (38.69, -121.22)    1      90.780508  San Francisco   \n",
              "2               2.234099  (34.71, -120.45)    1     133.985533    Los Angeles   \n",
              "3               2.164094  (32.66, -117.09)    1       5.467741      San Diego   \n",
              "4               1.500861   (37.8, -122.41)    1       1.804140  San Francisco   \n",
              "\n",
              "   pop_april_1990  Pop_To_Miles_Ratio  City_Income  \n",
              "0       3485398.0        30642.562529        30925  \n",
              "1        723959.0         7974.828676        33414  \n",
              "2       3485398.0        26013.241273        30925  \n",
              "3       1110549.0       203109.299308        33686  \n",
              "4        723959.0       401276.469854        33414  "
            ],
            "text/html": [
              "\n",
              "  <div id=\"df-8ee7598e-6f82-452b-9c19-b694493e742a\">\n",
              "    <div class=\"colab-df-container\">\n",
              "      <div>\n",
              "<style scoped>\n",
              "    .dataframe tbody tr th:only-of-type {\n",
              "        vertical-align: middle;\n",
              "    }\n",
              "\n",
              "    .dataframe tbody tr th {\n",
              "        vertical-align: top;\n",
              "    }\n",
              "\n",
              "    .dataframe thead th {\n",
              "        text-align: right;\n",
              "    }\n",
              "</style>\n",
              "<table border=\"1\" class=\"dataframe\">\n",
              "  <thead>\n",
              "    <tr style=\"text-align: right;\">\n",
              "      <th></th>\n",
              "      <th>Unnamed: 0</th>\n",
              "      <th>MedInc</th>\n",
              "      <th>HouseAge</th>\n",
              "      <th>AveRooms</th>\n",
              "      <th>AveBedrms</th>\n",
              "      <th>Population</th>\n",
              "      <th>AveOccup</th>\n",
              "      <th>Latitude</th>\n",
              "      <th>Longitude</th>\n",
              "      <th>MedHouseVal</th>\n",
              "      <th>bedrooms_per_room</th>\n",
              "      <th>occupancy_per_room</th>\n",
              "      <th>occupancy_per_bedroom</th>\n",
              "      <th>housing_tuple</th>\n",
              "      <th>key</th>\n",
              "      <th>Miles_to_City</th>\n",
              "      <th>Nearest_City</th>\n",
              "      <th>pop_april_1990</th>\n",
              "      <th>Pop_To_Miles_Ratio</th>\n",
              "      <th>City_Income</th>\n",
              "    </tr>\n",
              "  </thead>\n",
              "  <tbody>\n",
              "    <tr>\n",
              "      <th>0</th>\n",
              "      <td>0</td>\n",
              "      <td>2.3859</td>\n",
              "      <td>15.0</td>\n",
              "      <td>3.827160</td>\n",
              "      <td>1.112100</td>\n",
              "      <td>1280.0</td>\n",
              "      <td>2.486989</td>\n",
              "      <td>34.60</td>\n",
              "      <td>-120.12</td>\n",
              "      <td>0.980</td>\n",
              "      <td>0.290581</td>\n",
              "      <td>0.649826</td>\n",
              "      <td>2.236300</td>\n",
              "      <td>(34.6, -120.12)</td>\n",
              "      <td>1</td>\n",
              "      <td>113.743686</td>\n",
              "      <td>Los Angeles</td>\n",
              "      <td>3485398.0</td>\n",
              "      <td>30642.562529</td>\n",
              "      <td>30925</td>\n",
              "    </tr>\n",
              "    <tr>\n",
              "      <th>1</th>\n",
              "      <td>1</td>\n",
              "      <td>3.7188</td>\n",
              "      <td>17.0</td>\n",
              "      <td>6.013373</td>\n",
              "      <td>1.054217</td>\n",
              "      <td>1504.0</td>\n",
              "      <td>3.813084</td>\n",
              "      <td>38.69</td>\n",
              "      <td>-121.22</td>\n",
              "      <td>0.946</td>\n",
              "      <td>0.175312</td>\n",
              "      <td>0.634101</td>\n",
              "      <td>3.616983</td>\n",
              "      <td>(38.69, -121.22)</td>\n",
              "      <td>1</td>\n",
              "      <td>90.780508</td>\n",
              "      <td>San Francisco</td>\n",
              "      <td>723959.0</td>\n",
              "      <td>7974.828676</td>\n",
              "      <td>33414</td>\n",
              "    </tr>\n",
              "    <tr>\n",
              "      <th>2</th>\n",
              "      <td>2</td>\n",
              "      <td>4.7750</td>\n",
              "      <td>27.0</td>\n",
              "      <td>6.535604</td>\n",
              "      <td>1.103175</td>\n",
              "      <td>1061.0</td>\n",
              "      <td>2.464602</td>\n",
              "      <td>34.71</td>\n",
              "      <td>-120.45</td>\n",
              "      <td>1.576</td>\n",
              "      <td>0.168795</td>\n",
              "      <td>0.377104</td>\n",
              "      <td>2.234099</td>\n",
              "      <td>(34.71, -120.45)</td>\n",
              "      <td>1</td>\n",
              "      <td>133.985533</td>\n",
              "      <td>Los Angeles</td>\n",
              "      <td>3485398.0</td>\n",
              "      <td>26013.241273</td>\n",
              "      <td>30925</td>\n",
              "    </tr>\n",
              "    <tr>\n",
              "      <th>3</th>\n",
              "      <td>3</td>\n",
              "      <td>2.4138</td>\n",
              "      <td>16.0</td>\n",
              "      <td>3.350203</td>\n",
              "      <td>0.965432</td>\n",
              "      <td>1255.0</td>\n",
              "      <td>2.089286</td>\n",
              "      <td>32.66</td>\n",
              "      <td>-117.09</td>\n",
              "      <td>1.336</td>\n",
              "      <td>0.288171</td>\n",
              "      <td>0.623630</td>\n",
              "      <td>2.164094</td>\n",
              "      <td>(32.66, -117.09)</td>\n",
              "      <td>1</td>\n",
              "      <td>5.467741</td>\n",
              "      <td>San Diego</td>\n",
              "      <td>1110549.0</td>\n",
              "      <td>203109.299308</td>\n",
              "      <td>33686</td>\n",
              "    </tr>\n",
              "    <tr>\n",
              "      <th>4</th>\n",
              "      <td>4</td>\n",
              "      <td>3.7500</td>\n",
              "      <td>52.0</td>\n",
              "      <td>4.284404</td>\n",
              "      <td>1.069246</td>\n",
              "      <td>1793.0</td>\n",
              "      <td>1.604790</td>\n",
              "      <td>37.80</td>\n",
              "      <td>-122.41</td>\n",
              "      <td>4.500</td>\n",
              "      <td>0.249567</td>\n",
              "      <td>0.374566</td>\n",
              "      <td>1.500861</td>\n",
              "      <td>(37.8, -122.41)</td>\n",
              "      <td>1</td>\n",
              "      <td>1.804140</td>\n",
              "      <td>San Francisco</td>\n",
              "      <td>723959.0</td>\n",
              "      <td>401276.469854</td>\n",
              "      <td>33414</td>\n",
              "    </tr>\n",
              "  </tbody>\n",
              "</table>\n",
              "</div>\n",
              "      <button class=\"colab-df-convert\" onclick=\"convertToInteractive('df-8ee7598e-6f82-452b-9c19-b694493e742a')\"\n",
              "              title=\"Convert this dataframe to an interactive table.\"\n",
              "              style=\"display:none;\">\n",
              "        \n",
              "  <svg xmlns=\"http://www.w3.org/2000/svg\" height=\"24px\"viewBox=\"0 0 24 24\"\n",
              "       width=\"24px\">\n",
              "    <path d=\"M0 0h24v24H0V0z\" fill=\"none\"/>\n",
              "    <path d=\"M18.56 5.44l.94 2.06.94-2.06 2.06-.94-2.06-.94-.94-2.06-.94 2.06-2.06.94zm-11 1L8.5 8.5l.94-2.06 2.06-.94-2.06-.94L8.5 2.5l-.94 2.06-2.06.94zm10 10l.94 2.06.94-2.06 2.06-.94-2.06-.94-.94-2.06-.94 2.06-2.06.94z\"/><path d=\"M17.41 7.96l-1.37-1.37c-.4-.4-.92-.59-1.43-.59-.52 0-1.04.2-1.43.59L10.3 9.45l-7.72 7.72c-.78.78-.78 2.05 0 2.83L4 21.41c.39.39.9.59 1.41.59.51 0 1.02-.2 1.41-.59l7.78-7.78 2.81-2.81c.8-.78.8-2.07 0-2.86zM5.41 20L4 18.59l7.72-7.72 1.47 1.35L5.41 20z\"/>\n",
              "  </svg>\n",
              "      </button>\n",
              "      \n",
              "  <style>\n",
              "    .colab-df-container {\n",
              "      display:flex;\n",
              "      flex-wrap:wrap;\n",
              "      gap: 12px;\n",
              "    }\n",
              "\n",
              "    .colab-df-convert {\n",
              "      background-color: #E8F0FE;\n",
              "      border: none;\n",
              "      border-radius: 50%;\n",
              "      cursor: pointer;\n",
              "      display: none;\n",
              "      fill: #1967D2;\n",
              "      height: 32px;\n",
              "      padding: 0 0 0 0;\n",
              "      width: 32px;\n",
              "    }\n",
              "\n",
              "    .colab-df-convert:hover {\n",
              "      background-color: #E2EBFA;\n",
              "      box-shadow: 0px 1px 2px rgba(60, 64, 67, 0.3), 0px 1px 3px 1px rgba(60, 64, 67, 0.15);\n",
              "      fill: #174EA6;\n",
              "    }\n",
              "\n",
              "    [theme=dark] .colab-df-convert {\n",
              "      background-color: #3B4455;\n",
              "      fill: #D2E3FC;\n",
              "    }\n",
              "\n",
              "    [theme=dark] .colab-df-convert:hover {\n",
              "      background-color: #434B5C;\n",
              "      box-shadow: 0px 1px 3px 1px rgba(0, 0, 0, 0.15);\n",
              "      filter: drop-shadow(0px 1px 2px rgba(0, 0, 0, 0.3));\n",
              "      fill: #FFFFFF;\n",
              "    }\n",
              "  </style>\n",
              "\n",
              "      <script>\n",
              "        const buttonEl =\n",
              "          document.querySelector('#df-8ee7598e-6f82-452b-9c19-b694493e742a button.colab-df-convert');\n",
              "        buttonEl.style.display =\n",
              "          google.colab.kernel.accessAllowed ? 'block' : 'none';\n",
              "\n",
              "        async function convertToInteractive(key) {\n",
              "          const element = document.querySelector('#df-8ee7598e-6f82-452b-9c19-b694493e742a');\n",
              "          const dataTable =\n",
              "            await google.colab.kernel.invokeFunction('convertToInteractive',\n",
              "                                                     [key], {});\n",
              "          if (!dataTable) return;\n",
              "\n",
              "          const docLinkHtml = 'Like what you see? Visit the ' +\n",
              "            '<a target=\"_blank\" href=https://colab.research.google.com/notebooks/data_table.ipynb>data table notebook</a>'\n",
              "            + ' to learn more about interactive tables.';\n",
              "          element.innerHTML = '';\n",
              "          dataTable['output_type'] = 'display_data';\n",
              "          await google.colab.output.renderOutput(dataTable, element);\n",
              "          const docLink = document.createElement('div');\n",
              "          docLink.innerHTML = docLinkHtml;\n",
              "          element.appendChild(docLink);\n",
              "        }\n",
              "      </script>\n",
              "    </div>\n",
              "  </div>\n",
              "  "
            ]
          },
          "metadata": {},
          "execution_count": 5
        }
      ]
    },
    {
      "cell_type": "code",
      "source": [
        "print(df.columns)"
      ],
      "metadata": {
        "colab": {
          "base_uri": "https://localhost:8080/"
        },
        "id": "YtBY-SP8oCK0",
        "outputId": "a0dc8b55-c5a0-4e2f-a069-7f5fcd7fc498"
      },
      "execution_count": 6,
      "outputs": [
        {
          "output_type": "stream",
          "name": "stdout",
          "text": [
            "Index(['Unnamed: 0', 'MedInc', 'HouseAge', 'AveRooms', 'AveBedrms',\n",
            "       'Population', 'AveOccup', 'Latitude', 'Longitude', 'MedHouseVal',\n",
            "       'bedrooms_per_room', 'occupancy_per_room', 'occupancy_per_bedroom',\n",
            "       'housing_tuple', 'key', 'Miles_to_City', 'Nearest_City',\n",
            "       'pop_april_1990', 'Pop_To_Miles_Ratio', 'City_Income'],\n",
            "      dtype='object')\n"
          ]
        }
      ]
    },
    {
      "cell_type": "code",
      "source": [
        "df.drop(['Unnamed: 0','housing_tuple','key'], axis = 1,inplace = True)"
      ],
      "metadata": {
        "id": "wkLU9vQ3oqWd"
      },
      "execution_count": 7,
      "outputs": []
    },
    {
      "cell_type": "markdown",
      "source": [
        "Dropped columns that aren't giving the model information. Housing_tuple was useful to this point but won't provide valuable information to the model."
      ],
      "metadata": {
        "id": "Tl5n8JXKr0sN"
      }
    },
    {
      "cell_type": "code",
      "source": [
        "df.head()"
      ],
      "metadata": {
        "colab": {
          "base_uri": "https://localhost:8080/",
          "height": 268
        },
        "id": "pBO9kEcEo2dL",
        "outputId": "c79d3bc8-13fc-42fc-9440-60dddbeddaec"
      },
      "execution_count": 8,
      "outputs": [
        {
          "output_type": "execute_result",
          "data": {
            "text/plain": [
              "   MedInc  HouseAge  AveRooms  AveBedrms  Population  AveOccup  Latitude  \\\n",
              "0  2.3859      15.0  3.827160   1.112100      1280.0  2.486989     34.60   \n",
              "1  3.7188      17.0  6.013373   1.054217      1504.0  3.813084     38.69   \n",
              "2  4.7750      27.0  6.535604   1.103175      1061.0  2.464602     34.71   \n",
              "3  2.4138      16.0  3.350203   0.965432      1255.0  2.089286     32.66   \n",
              "4  3.7500      52.0  4.284404   1.069246      1793.0  1.604790     37.80   \n",
              "\n",
              "   Longitude  MedHouseVal  bedrooms_per_room  occupancy_per_room  \\\n",
              "0    -120.12        0.980           0.290581            0.649826   \n",
              "1    -121.22        0.946           0.175312            0.634101   \n",
              "2    -120.45        1.576           0.168795            0.377104   \n",
              "3    -117.09        1.336           0.288171            0.623630   \n",
              "4    -122.41        4.500           0.249567            0.374566   \n",
              "\n",
              "   occupancy_per_bedroom  Miles_to_City   Nearest_City  pop_april_1990  \\\n",
              "0               2.236300     113.743686    Los Angeles       3485398.0   \n",
              "1               3.616983      90.780508  San Francisco        723959.0   \n",
              "2               2.234099     133.985533    Los Angeles       3485398.0   \n",
              "3               2.164094       5.467741      San Diego       1110549.0   \n",
              "4               1.500861       1.804140  San Francisco        723959.0   \n",
              "\n",
              "   Pop_To_Miles_Ratio  City_Income  \n",
              "0        30642.562529        30925  \n",
              "1         7974.828676        33414  \n",
              "2        26013.241273        30925  \n",
              "3       203109.299308        33686  \n",
              "4       401276.469854        33414  "
            ],
            "text/html": [
              "\n",
              "  <div id=\"df-20f6ef9f-8f4d-4004-9a56-49d70c73a787\">\n",
              "    <div class=\"colab-df-container\">\n",
              "      <div>\n",
              "<style scoped>\n",
              "    .dataframe tbody tr th:only-of-type {\n",
              "        vertical-align: middle;\n",
              "    }\n",
              "\n",
              "    .dataframe tbody tr th {\n",
              "        vertical-align: top;\n",
              "    }\n",
              "\n",
              "    .dataframe thead th {\n",
              "        text-align: right;\n",
              "    }\n",
              "</style>\n",
              "<table border=\"1\" class=\"dataframe\">\n",
              "  <thead>\n",
              "    <tr style=\"text-align: right;\">\n",
              "      <th></th>\n",
              "      <th>MedInc</th>\n",
              "      <th>HouseAge</th>\n",
              "      <th>AveRooms</th>\n",
              "      <th>AveBedrms</th>\n",
              "      <th>Population</th>\n",
              "      <th>AveOccup</th>\n",
              "      <th>Latitude</th>\n",
              "      <th>Longitude</th>\n",
              "      <th>MedHouseVal</th>\n",
              "      <th>bedrooms_per_room</th>\n",
              "      <th>occupancy_per_room</th>\n",
              "      <th>occupancy_per_bedroom</th>\n",
              "      <th>Miles_to_City</th>\n",
              "      <th>Nearest_City</th>\n",
              "      <th>pop_april_1990</th>\n",
              "      <th>Pop_To_Miles_Ratio</th>\n",
              "      <th>City_Income</th>\n",
              "    </tr>\n",
              "  </thead>\n",
              "  <tbody>\n",
              "    <tr>\n",
              "      <th>0</th>\n",
              "      <td>2.3859</td>\n",
              "      <td>15.0</td>\n",
              "      <td>3.827160</td>\n",
              "      <td>1.112100</td>\n",
              "      <td>1280.0</td>\n",
              "      <td>2.486989</td>\n",
              "      <td>34.60</td>\n",
              "      <td>-120.12</td>\n",
              "      <td>0.980</td>\n",
              "      <td>0.290581</td>\n",
              "      <td>0.649826</td>\n",
              "      <td>2.236300</td>\n",
              "      <td>113.743686</td>\n",
              "      <td>Los Angeles</td>\n",
              "      <td>3485398.0</td>\n",
              "      <td>30642.562529</td>\n",
              "      <td>30925</td>\n",
              "    </tr>\n",
              "    <tr>\n",
              "      <th>1</th>\n",
              "      <td>3.7188</td>\n",
              "      <td>17.0</td>\n",
              "      <td>6.013373</td>\n",
              "      <td>1.054217</td>\n",
              "      <td>1504.0</td>\n",
              "      <td>3.813084</td>\n",
              "      <td>38.69</td>\n",
              "      <td>-121.22</td>\n",
              "      <td>0.946</td>\n",
              "      <td>0.175312</td>\n",
              "      <td>0.634101</td>\n",
              "      <td>3.616983</td>\n",
              "      <td>90.780508</td>\n",
              "      <td>San Francisco</td>\n",
              "      <td>723959.0</td>\n",
              "      <td>7974.828676</td>\n",
              "      <td>33414</td>\n",
              "    </tr>\n",
              "    <tr>\n",
              "      <th>2</th>\n",
              "      <td>4.7750</td>\n",
              "      <td>27.0</td>\n",
              "      <td>6.535604</td>\n",
              "      <td>1.103175</td>\n",
              "      <td>1061.0</td>\n",
              "      <td>2.464602</td>\n",
              "      <td>34.71</td>\n",
              "      <td>-120.45</td>\n",
              "      <td>1.576</td>\n",
              "      <td>0.168795</td>\n",
              "      <td>0.377104</td>\n",
              "      <td>2.234099</td>\n",
              "      <td>133.985533</td>\n",
              "      <td>Los Angeles</td>\n",
              "      <td>3485398.0</td>\n",
              "      <td>26013.241273</td>\n",
              "      <td>30925</td>\n",
              "    </tr>\n",
              "    <tr>\n",
              "      <th>3</th>\n",
              "      <td>2.4138</td>\n",
              "      <td>16.0</td>\n",
              "      <td>3.350203</td>\n",
              "      <td>0.965432</td>\n",
              "      <td>1255.0</td>\n",
              "      <td>2.089286</td>\n",
              "      <td>32.66</td>\n",
              "      <td>-117.09</td>\n",
              "      <td>1.336</td>\n",
              "      <td>0.288171</td>\n",
              "      <td>0.623630</td>\n",
              "      <td>2.164094</td>\n",
              "      <td>5.467741</td>\n",
              "      <td>San Diego</td>\n",
              "      <td>1110549.0</td>\n",
              "      <td>203109.299308</td>\n",
              "      <td>33686</td>\n",
              "    </tr>\n",
              "    <tr>\n",
              "      <th>4</th>\n",
              "      <td>3.7500</td>\n",
              "      <td>52.0</td>\n",
              "      <td>4.284404</td>\n",
              "      <td>1.069246</td>\n",
              "      <td>1793.0</td>\n",
              "      <td>1.604790</td>\n",
              "      <td>37.80</td>\n",
              "      <td>-122.41</td>\n",
              "      <td>4.500</td>\n",
              "      <td>0.249567</td>\n",
              "      <td>0.374566</td>\n",
              "      <td>1.500861</td>\n",
              "      <td>1.804140</td>\n",
              "      <td>San Francisco</td>\n",
              "      <td>723959.0</td>\n",
              "      <td>401276.469854</td>\n",
              "      <td>33414</td>\n",
              "    </tr>\n",
              "  </tbody>\n",
              "</table>\n",
              "</div>\n",
              "      <button class=\"colab-df-convert\" onclick=\"convertToInteractive('df-20f6ef9f-8f4d-4004-9a56-49d70c73a787')\"\n",
              "              title=\"Convert this dataframe to an interactive table.\"\n",
              "              style=\"display:none;\">\n",
              "        \n",
              "  <svg xmlns=\"http://www.w3.org/2000/svg\" height=\"24px\"viewBox=\"0 0 24 24\"\n",
              "       width=\"24px\">\n",
              "    <path d=\"M0 0h24v24H0V0z\" fill=\"none\"/>\n",
              "    <path d=\"M18.56 5.44l.94 2.06.94-2.06 2.06-.94-2.06-.94-.94-2.06-.94 2.06-2.06.94zm-11 1L8.5 8.5l.94-2.06 2.06-.94-2.06-.94L8.5 2.5l-.94 2.06-2.06.94zm10 10l.94 2.06.94-2.06 2.06-.94-2.06-.94-.94-2.06-.94 2.06-2.06.94z\"/><path d=\"M17.41 7.96l-1.37-1.37c-.4-.4-.92-.59-1.43-.59-.52 0-1.04.2-1.43.59L10.3 9.45l-7.72 7.72c-.78.78-.78 2.05 0 2.83L4 21.41c.39.39.9.59 1.41.59.51 0 1.02-.2 1.41-.59l7.78-7.78 2.81-2.81c.8-.78.8-2.07 0-2.86zM5.41 20L4 18.59l7.72-7.72 1.47 1.35L5.41 20z\"/>\n",
              "  </svg>\n",
              "      </button>\n",
              "      \n",
              "  <style>\n",
              "    .colab-df-container {\n",
              "      display:flex;\n",
              "      flex-wrap:wrap;\n",
              "      gap: 12px;\n",
              "    }\n",
              "\n",
              "    .colab-df-convert {\n",
              "      background-color: #E8F0FE;\n",
              "      border: none;\n",
              "      border-radius: 50%;\n",
              "      cursor: pointer;\n",
              "      display: none;\n",
              "      fill: #1967D2;\n",
              "      height: 32px;\n",
              "      padding: 0 0 0 0;\n",
              "      width: 32px;\n",
              "    }\n",
              "\n",
              "    .colab-df-convert:hover {\n",
              "      background-color: #E2EBFA;\n",
              "      box-shadow: 0px 1px 2px rgba(60, 64, 67, 0.3), 0px 1px 3px 1px rgba(60, 64, 67, 0.15);\n",
              "      fill: #174EA6;\n",
              "    }\n",
              "\n",
              "    [theme=dark] .colab-df-convert {\n",
              "      background-color: #3B4455;\n",
              "      fill: #D2E3FC;\n",
              "    }\n",
              "\n",
              "    [theme=dark] .colab-df-convert:hover {\n",
              "      background-color: #434B5C;\n",
              "      box-shadow: 0px 1px 3px 1px rgba(0, 0, 0, 0.15);\n",
              "      filter: drop-shadow(0px 1px 2px rgba(0, 0, 0, 0.3));\n",
              "      fill: #FFFFFF;\n",
              "    }\n",
              "  </style>\n",
              "\n",
              "      <script>\n",
              "        const buttonEl =\n",
              "          document.querySelector('#df-20f6ef9f-8f4d-4004-9a56-49d70c73a787 button.colab-df-convert');\n",
              "        buttonEl.style.display =\n",
              "          google.colab.kernel.accessAllowed ? 'block' : 'none';\n",
              "\n",
              "        async function convertToInteractive(key) {\n",
              "          const element = document.querySelector('#df-20f6ef9f-8f4d-4004-9a56-49d70c73a787');\n",
              "          const dataTable =\n",
              "            await google.colab.kernel.invokeFunction('convertToInteractive',\n",
              "                                                     [key], {});\n",
              "          if (!dataTable) return;\n",
              "\n",
              "          const docLinkHtml = 'Like what you see? Visit the ' +\n",
              "            '<a target=\"_blank\" href=https://colab.research.google.com/notebooks/data_table.ipynb>data table notebook</a>'\n",
              "            + ' to learn more about interactive tables.';\n",
              "          element.innerHTML = '';\n",
              "          dataTable['output_type'] = 'display_data';\n",
              "          await google.colab.output.renderOutput(dataTable, element);\n",
              "          const docLink = document.createElement('div');\n",
              "          docLink.innerHTML = docLinkHtml;\n",
              "          element.appendChild(docLink);\n",
              "        }\n",
              "      </script>\n",
              "    </div>\n",
              "  </div>\n",
              "  "
            ]
          },
          "metadata": {},
          "execution_count": 8
        }
      ]
    },
    {
      "cell_type": "code",
      "source": [
        "dummy_df=pd.get_dummies(df,drop_first = True)"
      ],
      "metadata": {
        "id": "aufOUuAMqyCS"
      },
      "execution_count": 9,
      "outputs": []
    },
    {
      "cell_type": "markdown",
      "source": [
        "Here, I got dummy variables for the city that each observation is closest too, dropping the first column as that would duplicate information."
      ],
      "metadata": {
        "id": "oKk9zG_vtF6g"
      }
    },
    {
      "cell_type": "code",
      "source": [
        "y = dummy_df['MedHouseVal']\n",
        "X = dummy_df.drop('MedHouseVal',axis=1)"
      ],
      "metadata": {
        "id": "X-vuqIrAxHiM"
      },
      "execution_count": 11,
      "outputs": []
    },
    {
      "cell_type": "code",
      "source": [
        "print(y.shape,X.shape)"
      ],
      "metadata": {
        "colab": {
          "base_uri": "https://localhost:8080/"
        },
        "id": "_KkHjGjJxYaR",
        "outputId": "377ba9f9-615f-41f7-c31a-190e5a5f2f28"
      },
      "execution_count": 12,
      "outputs": [
        {
          "output_type": "stream",
          "name": "stdout",
          "text": [
            "(37137,) (37137, 18)\n"
          ]
        }
      ]
    },
    {
      "cell_type": "markdown",
      "source": [
        "Now, I separate the data into X and y values, and check the shape of each to make sure they are what I intended them to be."
      ],
      "metadata": {
        "id": "MP_XeTnHDwaf"
      }
    },
    {
      "cell_type": "code",
      "source": [
        "X_train, X_test, y_train, y_test = train_test_split(X,y,random_state=16)"
      ],
      "metadata": {
        "id": "BE9VG_nr0XpH"
      },
      "execution_count": 16,
      "outputs": []
    },
    {
      "cell_type": "code",
      "source": [
        "print(X_train.shape,X_test.shape,y_train.shape,y_test.shape)"
      ],
      "metadata": {
        "colab": {
          "base_uri": "https://localhost:8080/"
        },
        "id": "GEx05kah0p5_",
        "outputId": "5b30e2bb-3663-4dad-e395-55a9e1cbcac4"
      },
      "execution_count": 17,
      "outputs": [
        {
          "output_type": "stream",
          "name": "stdout",
          "text": [
            "(27852, 18) (9285, 18) (27852,) (9285,)\n"
          ]
        }
      ]
    },
    {
      "cell_type": "markdown",
      "source": [
        "I split the data in training and test sets and again check the shape."
      ],
      "metadata": {
        "id": "3x__O3hYD8ja"
      }
    },
    {
      "cell_type": "code",
      "source": [
        "X.columns"
      ],
      "metadata": {
        "colab": {
          "base_uri": "https://localhost:8080/"
        },
        "id": "0cZQ3usOCFro",
        "outputId": "0c6e954e-e1d1-446d-f41b-bb45bff3490c"
      },
      "execution_count": 13,
      "outputs": [
        {
          "output_type": "execute_result",
          "data": {
            "text/plain": [
              "Index(['MedInc', 'HouseAge', 'AveRooms', 'AveBedrms', 'Population', 'AveOccup',\n",
              "       'Latitude', 'Longitude', 'bedrooms_per_room', 'occupancy_per_room',\n",
              "       'occupancy_per_bedroom', 'Miles_to_City', 'pop_april_1990',\n",
              "       'Pop_To_Miles_Ratio', 'City_Income', 'Nearest_City_San Diego',\n",
              "       'Nearest_City_San Francisco', 'Nearest_City_San Jose'],\n",
              "      dtype='object')"
            ]
          },
          "metadata": {},
          "execution_count": 13
        }
      ]
    },
    {
      "cell_type": "markdown",
      "source": [
        "The next step will be to scale the data. Since it doesn't make sense to scale the dummy variables, i print the columns to copy and paste the other columns into the scaler below."
      ],
      "metadata": {
        "id": "rSXTnLz1EDwI"
      }
    },
    {
      "cell_type": "code",
      "source": [
        "scaler = StandardScaler()\n",
        "X_train[['MedInc', 'HouseAge', 'AveRooms', 'AveBedrms', 'Population', 'AveOccup',\n",
        "       'Latitude', 'Longitude', 'bedrooms_per_room', 'occupancy_per_room',\n",
        "       'occupancy_per_bedroom', 'Miles_to_City', 'pop_april_1990',\n",
        "       'Pop_To_Miles_Ratio', 'City_Income']] = scaler.fit_transform(X_train[['MedInc', 'HouseAge', 'AveRooms', 'AveBedrms', 'Population', 'AveOccup',\n",
        "       'Latitude', 'Longitude', 'bedrooms_per_room', 'occupancy_per_room',\n",
        "       'occupancy_per_bedroom', 'Miles_to_City', 'pop_april_1990',\n",
        "       'Pop_To_Miles_Ratio', 'City_Income']])"
      ],
      "metadata": {
        "id": "ZqoV2P_gw4ik"
      },
      "execution_count": 18,
      "outputs": []
    },
    {
      "cell_type": "code",
      "source": [
        "X_test[['MedInc', 'HouseAge', 'AveRooms', 'AveBedrms', 'Population', 'AveOccup',\n",
        "       'Latitude', 'Longitude', 'bedrooms_per_room', 'occupancy_per_room',\n",
        "       'occupancy_per_bedroom', 'Miles_to_City', 'pop_april_1990',\n",
        "       'Pop_To_Miles_Ratio', 'City_Income']] = scaler.transform(X_test[['MedInc', 'HouseAge', 'AveRooms', 'AveBedrms', 'Population', 'AveOccup',\n",
        "       'Latitude', 'Longitude', 'bedrooms_per_room', 'occupancy_per_room',\n",
        "       'occupancy_per_bedroom', 'Miles_to_City', 'pop_april_1990',\n",
        "       'Pop_To_Miles_Ratio', 'City_Income']])"
      ],
      "metadata": {
        "id": "PiLYaM9_yZOq"
      },
      "execution_count": 22,
      "outputs": []
    },
    {
      "cell_type": "markdown",
      "source": [
        "Now, the test and training sets have been scaled, except for the dummy variables and we are ready to move into modeling."
      ],
      "metadata": {
        "id": "QJpYFCaRDis6"
      }
    }
  ]
}